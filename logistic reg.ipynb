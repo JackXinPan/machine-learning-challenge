{
 "cells": [
  {
   "cell_type": "code",
   "execution_count": 1,
   "metadata": {},
   "outputs": [
    {
     "name": "stdout",
     "output_type": "stream",
     "text": [
      "Requirement already up-to-date: sklearn in c:\\users\\jack pan\\anaconda3\\lib\\site-packages (0.0)\n",
      "Requirement already satisfied, skipping upgrade: scikit-learn in c:\\users\\jack pan\\anaconda3\\lib\\site-packages (from sklearn) (0.23.2)\n",
      "Requirement already satisfied, skipping upgrade: threadpoolctl>=2.0.0 in c:\\users\\jack pan\\anaconda3\\lib\\site-packages (from scikit-learn->sklearn) (2.1.0)\n",
      "Requirement already satisfied, skipping upgrade: scipy>=0.19.1 in c:\\users\\jack pan\\anaconda3\\lib\\site-packages (from scikit-learn->sklearn) (1.5.2)\n",
      "Requirement already satisfied, skipping upgrade: numpy>=1.13.3 in c:\\users\\jack pan\\anaconda3\\lib\\site-packages (from scikit-learn->sklearn) (1.21.1)\n",
      "Requirement already satisfied, skipping upgrade: joblib>=0.11 in c:\\users\\jack pan\\anaconda3\\lib\\site-packages (from scikit-learn->sklearn) (0.17.0)\n"
     ]
    }
   ],
   "source": [
    "# Update sklearn to prevent version mismatches\n",
    "!pip install sklearn --upgrade"
   ]
  },
  {
   "cell_type": "code",
   "execution_count": 2,
   "metadata": {},
   "outputs": [
    {
     "name": "stdout",
     "output_type": "stream",
     "text": [
      "Requirement already satisfied: joblib in c:\\users\\jack pan\\anaconda3\\lib\\site-packages (0.17.0)\n"
     ]
    }
   ],
   "source": [
    "# install joblib. This will be used to save your model. \n",
    "# Restart your kernel after installing \n",
    "!pip install joblib"
   ]
  },
  {
   "cell_type": "code",
   "execution_count": 3,
   "metadata": {},
   "outputs": [],
   "source": [
    "import pandas as pd"
   ]
  },
  {
   "cell_type": "markdown",
   "metadata": {},
   "source": [
    "# Read the CSV and Perform Basic Data Cleaning"
   ]
  },
  {
   "cell_type": "code",
   "execution_count": 4,
   "metadata": {},
   "outputs": [
    {
     "data": {
      "text/html": [
       "<div>\n",
       "<style scoped>\n",
       "    .dataframe tbody tr th:only-of-type {\n",
       "        vertical-align: middle;\n",
       "    }\n",
       "\n",
       "    .dataframe tbody tr th {\n",
       "        vertical-align: top;\n",
       "    }\n",
       "\n",
       "    .dataframe thead th {\n",
       "        text-align: right;\n",
       "    }\n",
       "</style>\n",
       "<table border=\"1\" class=\"dataframe\">\n",
       "  <thead>\n",
       "    <tr style=\"text-align: right;\">\n",
       "      <th></th>\n",
       "      <th>koi_disposition</th>\n",
       "      <th>koi_fpflag_nt</th>\n",
       "      <th>koi_fpflag_ss</th>\n",
       "      <th>koi_fpflag_co</th>\n",
       "      <th>koi_fpflag_ec</th>\n",
       "      <th>koi_period</th>\n",
       "      <th>koi_period_err1</th>\n",
       "      <th>koi_period_err2</th>\n",
       "      <th>koi_time0bk</th>\n",
       "      <th>koi_time0bk_err1</th>\n",
       "      <th>...</th>\n",
       "      <th>koi_steff_err2</th>\n",
       "      <th>koi_slogg</th>\n",
       "      <th>koi_slogg_err1</th>\n",
       "      <th>koi_slogg_err2</th>\n",
       "      <th>koi_srad</th>\n",
       "      <th>koi_srad_err1</th>\n",
       "      <th>koi_srad_err2</th>\n",
       "      <th>ra</th>\n",
       "      <th>dec</th>\n",
       "      <th>koi_kepmag</th>\n",
       "    </tr>\n",
       "  </thead>\n",
       "  <tbody>\n",
       "    <tr>\n",
       "      <th>0</th>\n",
       "      <td>CONFIRMED</td>\n",
       "      <td>0</td>\n",
       "      <td>0</td>\n",
       "      <td>0</td>\n",
       "      <td>0</td>\n",
       "      <td>54.418383</td>\n",
       "      <td>2.479000e-04</td>\n",
       "      <td>-2.479000e-04</td>\n",
       "      <td>162.513840</td>\n",
       "      <td>0.003520</td>\n",
       "      <td>...</td>\n",
       "      <td>-81</td>\n",
       "      <td>4.467</td>\n",
       "      <td>0.064</td>\n",
       "      <td>-0.096</td>\n",
       "      <td>0.927</td>\n",
       "      <td>0.105</td>\n",
       "      <td>-0.061</td>\n",
       "      <td>291.93423</td>\n",
       "      <td>48.141651</td>\n",
       "      <td>15.347</td>\n",
       "    </tr>\n",
       "    <tr>\n",
       "      <th>1</th>\n",
       "      <td>FALSE POSITIVE</td>\n",
       "      <td>0</td>\n",
       "      <td>1</td>\n",
       "      <td>0</td>\n",
       "      <td>0</td>\n",
       "      <td>19.899140</td>\n",
       "      <td>1.490000e-05</td>\n",
       "      <td>-1.490000e-05</td>\n",
       "      <td>175.850252</td>\n",
       "      <td>0.000581</td>\n",
       "      <td>...</td>\n",
       "      <td>-176</td>\n",
       "      <td>4.544</td>\n",
       "      <td>0.044</td>\n",
       "      <td>-0.176</td>\n",
       "      <td>0.868</td>\n",
       "      <td>0.233</td>\n",
       "      <td>-0.078</td>\n",
       "      <td>297.00482</td>\n",
       "      <td>48.134129</td>\n",
       "      <td>15.436</td>\n",
       "    </tr>\n",
       "    <tr>\n",
       "      <th>2</th>\n",
       "      <td>FALSE POSITIVE</td>\n",
       "      <td>0</td>\n",
       "      <td>1</td>\n",
       "      <td>0</td>\n",
       "      <td>0</td>\n",
       "      <td>1.736952</td>\n",
       "      <td>2.630000e-07</td>\n",
       "      <td>-2.630000e-07</td>\n",
       "      <td>170.307565</td>\n",
       "      <td>0.000115</td>\n",
       "      <td>...</td>\n",
       "      <td>-174</td>\n",
       "      <td>4.564</td>\n",
       "      <td>0.053</td>\n",
       "      <td>-0.168</td>\n",
       "      <td>0.791</td>\n",
       "      <td>0.201</td>\n",
       "      <td>-0.067</td>\n",
       "      <td>285.53461</td>\n",
       "      <td>48.285210</td>\n",
       "      <td>15.597</td>\n",
       "    </tr>\n",
       "    <tr>\n",
       "      <th>3</th>\n",
       "      <td>CONFIRMED</td>\n",
       "      <td>0</td>\n",
       "      <td>0</td>\n",
       "      <td>0</td>\n",
       "      <td>0</td>\n",
       "      <td>2.525592</td>\n",
       "      <td>3.760000e-06</td>\n",
       "      <td>-3.760000e-06</td>\n",
       "      <td>171.595550</td>\n",
       "      <td>0.001130</td>\n",
       "      <td>...</td>\n",
       "      <td>-211</td>\n",
       "      <td>4.438</td>\n",
       "      <td>0.070</td>\n",
       "      <td>-0.210</td>\n",
       "      <td>1.046</td>\n",
       "      <td>0.334</td>\n",
       "      <td>-0.133</td>\n",
       "      <td>288.75488</td>\n",
       "      <td>48.226200</td>\n",
       "      <td>15.509</td>\n",
       "    </tr>\n",
       "    <tr>\n",
       "      <th>4</th>\n",
       "      <td>CONFIRMED</td>\n",
       "      <td>0</td>\n",
       "      <td>0</td>\n",
       "      <td>0</td>\n",
       "      <td>0</td>\n",
       "      <td>4.134435</td>\n",
       "      <td>1.050000e-05</td>\n",
       "      <td>-1.050000e-05</td>\n",
       "      <td>172.979370</td>\n",
       "      <td>0.001900</td>\n",
       "      <td>...</td>\n",
       "      <td>-232</td>\n",
       "      <td>4.486</td>\n",
       "      <td>0.054</td>\n",
       "      <td>-0.229</td>\n",
       "      <td>0.972</td>\n",
       "      <td>0.315</td>\n",
       "      <td>-0.105</td>\n",
       "      <td>296.28613</td>\n",
       "      <td>48.224670</td>\n",
       "      <td>15.714</td>\n",
       "    </tr>\n",
       "  </tbody>\n",
       "</table>\n",
       "<p>5 rows × 41 columns</p>\n",
       "</div>"
      ],
      "text/plain": [
       "  koi_disposition  koi_fpflag_nt  koi_fpflag_ss  koi_fpflag_co  koi_fpflag_ec  \\\n",
       "0       CONFIRMED              0              0              0              0   \n",
       "1  FALSE POSITIVE              0              1              0              0   \n",
       "2  FALSE POSITIVE              0              1              0              0   \n",
       "3       CONFIRMED              0              0              0              0   \n",
       "4       CONFIRMED              0              0              0              0   \n",
       "\n",
       "   koi_period  koi_period_err1  koi_period_err2  koi_time0bk  \\\n",
       "0   54.418383     2.479000e-04    -2.479000e-04   162.513840   \n",
       "1   19.899140     1.490000e-05    -1.490000e-05   175.850252   \n",
       "2    1.736952     2.630000e-07    -2.630000e-07   170.307565   \n",
       "3    2.525592     3.760000e-06    -3.760000e-06   171.595550   \n",
       "4    4.134435     1.050000e-05    -1.050000e-05   172.979370   \n",
       "\n",
       "   koi_time0bk_err1  ...  koi_steff_err2  koi_slogg  koi_slogg_err1  \\\n",
       "0          0.003520  ...             -81      4.467           0.064   \n",
       "1          0.000581  ...            -176      4.544           0.044   \n",
       "2          0.000115  ...            -174      4.564           0.053   \n",
       "3          0.001130  ...            -211      4.438           0.070   \n",
       "4          0.001900  ...            -232      4.486           0.054   \n",
       "\n",
       "   koi_slogg_err2  koi_srad  koi_srad_err1  koi_srad_err2         ra  \\\n",
       "0          -0.096     0.927          0.105         -0.061  291.93423   \n",
       "1          -0.176     0.868          0.233         -0.078  297.00482   \n",
       "2          -0.168     0.791          0.201         -0.067  285.53461   \n",
       "3          -0.210     1.046          0.334         -0.133  288.75488   \n",
       "4          -0.229     0.972          0.315         -0.105  296.28613   \n",
       "\n",
       "         dec  koi_kepmag  \n",
       "0  48.141651      15.347  \n",
       "1  48.134129      15.436  \n",
       "2  48.285210      15.597  \n",
       "3  48.226200      15.509  \n",
       "4  48.224670      15.714  \n",
       "\n",
       "[5 rows x 41 columns]"
      ]
     },
     "execution_count": 4,
     "metadata": {},
     "output_type": "execute_result"
    }
   ],
   "source": [
    "df = pd.read_csv(\"data/exoplanet_data.csv\")\n",
    "# Drop the null columns where all values are null\n",
    "df = df.dropna(axis='columns', how='all')\n",
    "# Drop the null rows\n",
    "df = df.dropna()\n",
    "df.head()"
   ]
  },
  {
   "cell_type": "markdown",
   "metadata": {},
   "source": [
    "# Select your features (columns)"
   ]
  },
  {
   "cell_type": "code",
   "execution_count": 22,
   "metadata": {},
   "outputs": [
    {
     "data": {
      "text/plain": [
       "0            CONFIRMED\n",
       "1       FALSE POSITIVE\n",
       "2       FALSE POSITIVE\n",
       "3            CONFIRMED\n",
       "4            CONFIRMED\n",
       "             ...      \n",
       "6986    FALSE POSITIVE\n",
       "6987    FALSE POSITIVE\n",
       "6988         CANDIDATE\n",
       "6989    FALSE POSITIVE\n",
       "6990    FALSE POSITIVE\n",
       "Name: koi_disposition, Length: 6991, dtype: object"
      ]
     },
     "execution_count": 22,
     "metadata": {},
     "output_type": "execute_result"
    }
   ],
   "source": [
    "# y values\n",
    "target = df[\"koi_disposition\"]\n",
    "target "
   ]
  },
  {
   "cell_type": "code",
   "execution_count": 24,
   "metadata": {},
   "outputs": [
    {
     "data": {
      "text/plain": [
       "array(['CONFIRMED', 'FALSE POSITIVE', 'FALSE POSITIVE', ..., 'CANDIDATE',\n",
       "       'FALSE POSITIVE', 'FALSE POSITIVE'], dtype=object)"
      ]
     },
     "execution_count": 24,
     "metadata": {},
     "output_type": "execute_result"
    }
   ],
   "source": [
    "# As these are not numerical values, we can't use them to fit our nnet.\n",
    "# To fix this, we must convert each class label to a numerical value.\n",
    "\n",
    "#label encode to receive float outcomes \n",
    "\n",
    "from sklearn.preprocessing import LabelEncoder\n",
    "\n",
    "# Step 0: Reformat data\n",
    "data = df.values\n",
    "y = data[:, 0]\n",
    "y\n"
   ]
  },
  {
   "cell_type": "code",
   "execution_count": 26,
   "metadata": {},
   "outputs": [
    {
     "data": {
      "text/plain": [
       "array([1, 2, 2, ..., 0, 2, 2])"
      ]
     },
     "execution_count": 26,
     "metadata": {},
     "output_type": "execute_result"
    }
   ],
   "source": [
    "# Step 1: Label-encode data set\n",
    "label_encoder = LabelEncoder()\n",
    "label_encoder.fit(y)\n",
    "encoded_y = label_encoder.transform(y)\n",
    "encoded_y\n",
    "\n",
    "#candidate = 0 , confirmed = 1, false positive =2 "
   ]
  },
  {
   "cell_type": "code",
   "execution_count": 27,
   "metadata": {
    "scrolled": true
   },
   "outputs": [
    {
     "data": {
      "text/plain": [
       "Index(['koi_disposition', 'koi_fpflag_nt', 'koi_fpflag_ss', 'koi_fpflag_co',\n",
       "       'koi_fpflag_ec', 'koi_period', 'koi_period_err1', 'koi_period_err2',\n",
       "       'koi_time0bk', 'koi_time0bk_err1', 'koi_time0bk_err2', 'koi_impact',\n",
       "       'koi_impact_err1', 'koi_impact_err2', 'koi_duration',\n",
       "       'koi_duration_err1', 'koi_duration_err2', 'koi_depth', 'koi_depth_err1',\n",
       "       'koi_depth_err2', 'koi_prad', 'koi_prad_err1', 'koi_prad_err2',\n",
       "       'koi_teq', 'koi_insol', 'koi_insol_err1', 'koi_insol_err2',\n",
       "       'koi_model_snr', 'koi_tce_plnt_num', 'koi_steff', 'koi_steff_err1',\n",
       "       'koi_steff_err2', 'koi_slogg', 'koi_slogg_err1', 'koi_slogg_err2',\n",
       "       'koi_srad', 'koi_srad_err1', 'koi_srad_err2', 'ra', 'dec',\n",
       "       'koi_kepmag'],\n",
       "      dtype='object')"
      ]
     },
     "execution_count": 27,
     "metadata": {},
     "output_type": "execute_result"
    }
   ],
   "source": [
    "feature_names = df.columns\n",
    "feature_names"
   ]
  },
  {
   "cell_type": "code",
   "execution_count": 28,
   "metadata": {},
   "outputs": [
    {
     "data": {
      "text/html": [
       "<div>\n",
       "<style scoped>\n",
       "    .dataframe tbody tr th:only-of-type {\n",
       "        vertical-align: middle;\n",
       "    }\n",
       "\n",
       "    .dataframe tbody tr th {\n",
       "        vertical-align: top;\n",
       "    }\n",
       "\n",
       "    .dataframe thead th {\n",
       "        text-align: right;\n",
       "    }\n",
       "</style>\n",
       "<table border=\"1\" class=\"dataframe\">\n",
       "  <thead>\n",
       "    <tr style=\"text-align: right;\">\n",
       "      <th></th>\n",
       "      <th>koi_period</th>\n",
       "      <th>koi_time0bk</th>\n",
       "      <th>koi_slogg</th>\n",
       "      <th>koi_srad</th>\n",
       "      <th>koi_impact</th>\n",
       "      <th>koi_fpflag_nt</th>\n",
       "      <th>koi_fpflag_ss</th>\n",
       "      <th>koi_fpflag_co</th>\n",
       "      <th>koi_fpflag_ec</th>\n",
       "      <th>koi_duration</th>\n",
       "      <th>koi_depth</th>\n",
       "      <th>koi_prad</th>\n",
       "      <th>koi_teq</th>\n",
       "      <th>koi_insol</th>\n",
       "      <th>koi_model_snr</th>\n",
       "      <th>koi_tce_plnt_num</th>\n",
       "      <th>koi_steff</th>\n",
       "      <th>ra</th>\n",
       "      <th>dec</th>\n",
       "      <th>koi_kepmag</th>\n",
       "    </tr>\n",
       "  </thead>\n",
       "  <tbody>\n",
       "    <tr>\n",
       "      <th>0</th>\n",
       "      <td>54.418383</td>\n",
       "      <td>162.513840</td>\n",
       "      <td>4.467</td>\n",
       "      <td>0.927</td>\n",
       "      <td>0.586</td>\n",
       "      <td>0</td>\n",
       "      <td>0</td>\n",
       "      <td>0</td>\n",
       "      <td>0</td>\n",
       "      <td>4.50700</td>\n",
       "      <td>874.8</td>\n",
       "      <td>2.83</td>\n",
       "      <td>443</td>\n",
       "      <td>9.11</td>\n",
       "      <td>25.8</td>\n",
       "      <td>2</td>\n",
       "      <td>5455</td>\n",
       "      <td>291.93423</td>\n",
       "      <td>48.141651</td>\n",
       "      <td>15.347</td>\n",
       "    </tr>\n",
       "    <tr>\n",
       "      <th>1</th>\n",
       "      <td>19.899140</td>\n",
       "      <td>175.850252</td>\n",
       "      <td>4.544</td>\n",
       "      <td>0.868</td>\n",
       "      <td>0.969</td>\n",
       "      <td>0</td>\n",
       "      <td>1</td>\n",
       "      <td>0</td>\n",
       "      <td>0</td>\n",
       "      <td>1.78220</td>\n",
       "      <td>10829.0</td>\n",
       "      <td>14.60</td>\n",
       "      <td>638</td>\n",
       "      <td>39.30</td>\n",
       "      <td>76.3</td>\n",
       "      <td>1</td>\n",
       "      <td>5853</td>\n",
       "      <td>297.00482</td>\n",
       "      <td>48.134129</td>\n",
       "      <td>15.436</td>\n",
       "    </tr>\n",
       "    <tr>\n",
       "      <th>2</th>\n",
       "      <td>1.736952</td>\n",
       "      <td>170.307565</td>\n",
       "      <td>4.564</td>\n",
       "      <td>0.791</td>\n",
       "      <td>1.276</td>\n",
       "      <td>0</td>\n",
       "      <td>1</td>\n",
       "      <td>0</td>\n",
       "      <td>0</td>\n",
       "      <td>2.40641</td>\n",
       "      <td>8079.2</td>\n",
       "      <td>33.46</td>\n",
       "      <td>1395</td>\n",
       "      <td>891.96</td>\n",
       "      <td>505.6</td>\n",
       "      <td>1</td>\n",
       "      <td>5805</td>\n",
       "      <td>285.53461</td>\n",
       "      <td>48.285210</td>\n",
       "      <td>15.597</td>\n",
       "    </tr>\n",
       "    <tr>\n",
       "      <th>3</th>\n",
       "      <td>2.525592</td>\n",
       "      <td>171.595550</td>\n",
       "      <td>4.438</td>\n",
       "      <td>1.046</td>\n",
       "      <td>0.701</td>\n",
       "      <td>0</td>\n",
       "      <td>0</td>\n",
       "      <td>0</td>\n",
       "      <td>0</td>\n",
       "      <td>1.65450</td>\n",
       "      <td>603.3</td>\n",
       "      <td>2.75</td>\n",
       "      <td>1406</td>\n",
       "      <td>926.16</td>\n",
       "      <td>40.9</td>\n",
       "      <td>1</td>\n",
       "      <td>6031</td>\n",
       "      <td>288.75488</td>\n",
       "      <td>48.226200</td>\n",
       "      <td>15.509</td>\n",
       "    </tr>\n",
       "    <tr>\n",
       "      <th>4</th>\n",
       "      <td>4.134435</td>\n",
       "      <td>172.979370</td>\n",
       "      <td>4.486</td>\n",
       "      <td>0.972</td>\n",
       "      <td>0.762</td>\n",
       "      <td>0</td>\n",
       "      <td>0</td>\n",
       "      <td>0</td>\n",
       "      <td>0</td>\n",
       "      <td>3.14020</td>\n",
       "      <td>686.0</td>\n",
       "      <td>2.77</td>\n",
       "      <td>1160</td>\n",
       "      <td>427.65</td>\n",
       "      <td>40.2</td>\n",
       "      <td>2</td>\n",
       "      <td>6046</td>\n",
       "      <td>296.28613</td>\n",
       "      <td>48.224670</td>\n",
       "      <td>15.714</td>\n",
       "    </tr>\n",
       "  </tbody>\n",
       "</table>\n",
       "</div>"
      ],
      "text/plain": [
       "   koi_period  koi_time0bk  koi_slogg  koi_srad  koi_impact  koi_fpflag_nt  \\\n",
       "0   54.418383   162.513840      4.467     0.927       0.586              0   \n",
       "1   19.899140   175.850252      4.544     0.868       0.969              0   \n",
       "2    1.736952   170.307565      4.564     0.791       1.276              0   \n",
       "3    2.525592   171.595550      4.438     1.046       0.701              0   \n",
       "4    4.134435   172.979370      4.486     0.972       0.762              0   \n",
       "\n",
       "   koi_fpflag_ss  koi_fpflag_co  koi_fpflag_ec  koi_duration  koi_depth  \\\n",
       "0              0              0              0       4.50700      874.8   \n",
       "1              1              0              0       1.78220    10829.0   \n",
       "2              1              0              0       2.40641     8079.2   \n",
       "3              0              0              0       1.65450      603.3   \n",
       "4              0              0              0       3.14020      686.0   \n",
       "\n",
       "   koi_prad  koi_teq  koi_insol  koi_model_snr  koi_tce_plnt_num  koi_steff  \\\n",
       "0      2.83      443       9.11           25.8                 2       5455   \n",
       "1     14.60      638      39.30           76.3                 1       5853   \n",
       "2     33.46     1395     891.96          505.6                 1       5805   \n",
       "3      2.75     1406     926.16           40.9                 1       6031   \n",
       "4      2.77     1160     427.65           40.2                 2       6046   \n",
       "\n",
       "          ra        dec  koi_kepmag  \n",
       "0  291.93423  48.141651      15.347  \n",
       "1  297.00482  48.134129      15.436  \n",
       "2  285.53461  48.285210      15.597  \n",
       "3  288.75488  48.226200      15.509  \n",
       "4  296.28613  48.224670      15.714  "
      ]
     },
     "execution_count": 28,
     "metadata": {},
     "output_type": "execute_result"
    }
   ],
   "source": [
    "# Set features. This will also be used as your x values.\n",
    "# takes out the errors?\n",
    "selected_features = df[['koi_period',\n",
    "                        'koi_time0bk',\n",
    "                        'koi_slogg',\n",
    "                        'koi_srad',\n",
    "                        'koi_impact',\n",
    "                       'koi_fpflag_nt',\n",
    "                       'koi_fpflag_ss',\n",
    "                       'koi_fpflag_co',\n",
    "                       'koi_fpflag_ec',\n",
    "                       'koi_duration',\n",
    "                       'koi_depth',\n",
    "                       'koi_prad',\n",
    "                       'koi_teq',\n",
    "                       'koi_insol',\n",
    "                       'koi_model_snr',\n",
    "                        'koi_tce_plnt_num',\n",
    "                        'koi_steff',\n",
    "                        'ra',\n",
    "                        'dec',\n",
    "                        'koi_kepmag'\n",
    "                       ]]\n",
    "\n",
    "# selected_features = df.drop(\"koi_disposition\", axis=1)\n",
    "\n",
    "selected_features.head()"
   ]
  },
  {
   "cell_type": "markdown",
   "metadata": {},
   "source": [
    "# Create a Train Test Split\n",
    "\n",
    "Use `koi_disposition` for the y values"
   ]
  },
  {
   "cell_type": "code",
   "execution_count": 29,
   "metadata": {},
   "outputs": [],
   "source": [
    "from sklearn.model_selection import train_test_split\n",
    "X_train, X_test, y_train, y_test = train_test_split(selected_features, encoded_y, random_state=42)"
   ]
  },
  {
   "cell_type": "code",
   "execution_count": 30,
   "metadata": {
    "scrolled": true
   },
   "outputs": [
    {
     "data": {
      "text/html": [
       "<div>\n",
       "<style scoped>\n",
       "    .dataframe tbody tr th:only-of-type {\n",
       "        vertical-align: middle;\n",
       "    }\n",
       "\n",
       "    .dataframe tbody tr th {\n",
       "        vertical-align: top;\n",
       "    }\n",
       "\n",
       "    .dataframe thead th {\n",
       "        text-align: right;\n",
       "    }\n",
       "</style>\n",
       "<table border=\"1\" class=\"dataframe\">\n",
       "  <thead>\n",
       "    <tr style=\"text-align: right;\">\n",
       "      <th></th>\n",
       "      <th>koi_period</th>\n",
       "      <th>koi_time0bk</th>\n",
       "      <th>koi_slogg</th>\n",
       "      <th>koi_srad</th>\n",
       "      <th>koi_impact</th>\n",
       "      <th>koi_fpflag_nt</th>\n",
       "      <th>koi_fpflag_ss</th>\n",
       "      <th>koi_fpflag_co</th>\n",
       "      <th>koi_fpflag_ec</th>\n",
       "      <th>koi_duration</th>\n",
       "      <th>koi_depth</th>\n",
       "      <th>koi_prad</th>\n",
       "      <th>koi_teq</th>\n",
       "      <th>koi_insol</th>\n",
       "      <th>koi_model_snr</th>\n",
       "      <th>koi_tce_plnt_num</th>\n",
       "      <th>koi_steff</th>\n",
       "      <th>ra</th>\n",
       "      <th>dec</th>\n",
       "      <th>koi_kepmag</th>\n",
       "    </tr>\n",
       "  </thead>\n",
       "  <tbody>\n",
       "    <tr>\n",
       "      <th>6122</th>\n",
       "      <td>6.768901</td>\n",
       "      <td>133.077240</td>\n",
       "      <td>4.327</td>\n",
       "      <td>1.125</td>\n",
       "      <td>0.150</td>\n",
       "      <td>0</td>\n",
       "      <td>0</td>\n",
       "      <td>0</td>\n",
       "      <td>0</td>\n",
       "      <td>3.61600</td>\n",
       "      <td>123.1</td>\n",
       "      <td>1.24</td>\n",
       "      <td>1017</td>\n",
       "      <td>253.30</td>\n",
       "      <td>10.8</td>\n",
       "      <td>1</td>\n",
       "      <td>5737</td>\n",
       "      <td>294.40472</td>\n",
       "      <td>39.351681</td>\n",
       "      <td>14.725</td>\n",
       "    </tr>\n",
       "    <tr>\n",
       "      <th>6370</th>\n",
       "      <td>0.733726</td>\n",
       "      <td>132.020050</td>\n",
       "      <td>4.578</td>\n",
       "      <td>0.797</td>\n",
       "      <td>0.291</td>\n",
       "      <td>0</td>\n",
       "      <td>1</td>\n",
       "      <td>0</td>\n",
       "      <td>1</td>\n",
       "      <td>2.30900</td>\n",
       "      <td>114.6</td>\n",
       "      <td>0.86</td>\n",
       "      <td>1867</td>\n",
       "      <td>2891.64</td>\n",
       "      <td>13.8</td>\n",
       "      <td>1</td>\n",
       "      <td>5855</td>\n",
       "      <td>284.50391</td>\n",
       "      <td>42.463860</td>\n",
       "      <td>15.770</td>\n",
       "    </tr>\n",
       "    <tr>\n",
       "      <th>2879</th>\n",
       "      <td>7.652707</td>\n",
       "      <td>134.460380</td>\n",
       "      <td>4.481</td>\n",
       "      <td>0.963</td>\n",
       "      <td>0.970</td>\n",
       "      <td>1</td>\n",
       "      <td>0</td>\n",
       "      <td>0</td>\n",
       "      <td>0</td>\n",
       "      <td>79.89690</td>\n",
       "      <td>641.1</td>\n",
       "      <td>3.21</td>\n",
       "      <td>989</td>\n",
       "      <td>226.81</td>\n",
       "      <td>254.3</td>\n",
       "      <td>1</td>\n",
       "      <td>6328</td>\n",
       "      <td>295.50211</td>\n",
       "      <td>38.983540</td>\n",
       "      <td>13.099</td>\n",
       "    </tr>\n",
       "    <tr>\n",
       "      <th>107</th>\n",
       "      <td>7.953547</td>\n",
       "      <td>174.662240</td>\n",
       "      <td>4.536</td>\n",
       "      <td>0.779</td>\n",
       "      <td>0.300</td>\n",
       "      <td>0</td>\n",
       "      <td>0</td>\n",
       "      <td>0</td>\n",
       "      <td>0</td>\n",
       "      <td>2.63120</td>\n",
       "      <td>875.4</td>\n",
       "      <td>2.25</td>\n",
       "      <td>696</td>\n",
       "      <td>55.37</td>\n",
       "      <td>38.4</td>\n",
       "      <td>1</td>\n",
       "      <td>4768</td>\n",
       "      <td>291.15878</td>\n",
       "      <td>40.750271</td>\n",
       "      <td>15.660</td>\n",
       "    </tr>\n",
       "    <tr>\n",
       "      <th>29</th>\n",
       "      <td>4.959319</td>\n",
       "      <td>172.258529</td>\n",
       "      <td>4.359</td>\n",
       "      <td>1.082</td>\n",
       "      <td>0.831</td>\n",
       "      <td>0</td>\n",
       "      <td>0</td>\n",
       "      <td>0</td>\n",
       "      <td>0</td>\n",
       "      <td>2.22739</td>\n",
       "      <td>9802.0</td>\n",
       "      <td>12.21</td>\n",
       "      <td>1103</td>\n",
       "      <td>349.40</td>\n",
       "      <td>696.5</td>\n",
       "      <td>1</td>\n",
       "      <td>5712</td>\n",
       "      <td>292.16705</td>\n",
       "      <td>48.727589</td>\n",
       "      <td>15.263</td>\n",
       "    </tr>\n",
       "  </tbody>\n",
       "</table>\n",
       "</div>"
      ],
      "text/plain": [
       "      koi_period  koi_time0bk  koi_slogg  koi_srad  koi_impact  koi_fpflag_nt  \\\n",
       "6122    6.768901   133.077240      4.327     1.125       0.150              0   \n",
       "6370    0.733726   132.020050      4.578     0.797       0.291              0   \n",
       "2879    7.652707   134.460380      4.481     0.963       0.970              1   \n",
       "107     7.953547   174.662240      4.536     0.779       0.300              0   \n",
       "29      4.959319   172.258529      4.359     1.082       0.831              0   \n",
       "\n",
       "      koi_fpflag_ss  koi_fpflag_co  koi_fpflag_ec  koi_duration  koi_depth  \\\n",
       "6122              0              0              0       3.61600      123.1   \n",
       "6370              1              0              1       2.30900      114.6   \n",
       "2879              0              0              0      79.89690      641.1   \n",
       "107               0              0              0       2.63120      875.4   \n",
       "29                0              0              0       2.22739     9802.0   \n",
       "\n",
       "      koi_prad  koi_teq  koi_insol  koi_model_snr  koi_tce_plnt_num  \\\n",
       "6122      1.24     1017     253.30           10.8                 1   \n",
       "6370      0.86     1867    2891.64           13.8                 1   \n",
       "2879      3.21      989     226.81          254.3                 1   \n",
       "107       2.25      696      55.37           38.4                 1   \n",
       "29       12.21     1103     349.40          696.5                 1   \n",
       "\n",
       "      koi_steff         ra        dec  koi_kepmag  \n",
       "6122       5737  294.40472  39.351681      14.725  \n",
       "6370       5855  284.50391  42.463860      15.770  \n",
       "2879       6328  295.50211  38.983540      13.099  \n",
       "107        4768  291.15878  40.750271      15.660  \n",
       "29         5712  292.16705  48.727589      15.263  "
      ]
     },
     "execution_count": 30,
     "metadata": {},
     "output_type": "execute_result"
    }
   ],
   "source": [
    "X_train.head()"
   ]
  },
  {
   "cell_type": "code",
   "execution_count": 31,
   "metadata": {},
   "outputs": [
    {
     "data": {
      "text/plain": [
       "array([0, 2, 2, ..., 2, 2, 2])"
      ]
     },
     "execution_count": 31,
     "metadata": {},
     "output_type": "execute_result"
    }
   ],
   "source": [
    "y_train"
   ]
  },
  {
   "cell_type": "markdown",
   "metadata": {},
   "source": [
    "# Pre-processing\n",
    "\n",
    "Scale the data using the MinMaxScaler and perform some feature selection"
   ]
  },
  {
   "cell_type": "code",
   "execution_count": 32,
   "metadata": {},
   "outputs": [],
   "source": [
    "# models that use gradient descent need normalization to help the algorithms converge to a local optima\n",
    "# Scale your data\n",
    "from sklearn.preprocessing import MinMaxScaler #use standardscaler is data if features are expected to be normally distributed\n",
    "X_scaler = MinMaxScaler().fit(X_train)\n",
    "\n",
    "# Transform the training and testing data using the X_scaler and y_scaler models\n",
    "X_train_scaled = X_scaler.transform(X_train)\n",
    "X_test_scaled = X_scaler.transform(X_test)"
   ]
  },
  {
   "cell_type": "markdown",
   "metadata": {},
   "source": [
    "# Train the Model\n",
    "\n"
   ]
  },
  {
   "cell_type": "code",
   "execution_count": 39,
   "metadata": {},
   "outputs": [
    {
     "data": {
      "text/plain": [
       "LogisticRegression()"
      ]
     },
     "execution_count": 39,
     "metadata": {},
     "output_type": "execute_result"
    }
   ],
   "source": [
    "# Create the model and fit the model to the data linear regression model\n",
    "\n",
    "from sklearn.linear_model import LogisticRegression\n",
    "\n",
    "model2 = LogisticRegression()\n",
    "model2.fit(X_train_scaled, y_train)"
   ]
  },
  {
   "cell_type": "code",
   "execution_count": 40,
   "metadata": {},
   "outputs": [
    {
     "name": "stdout",
     "output_type": "stream",
     "text": [
      "Training Data Score: 0.8199504100705702\n",
      "Testing Data Score: 0.8009153318077803\n"
     ]
    }
   ],
   "source": [
    "print(f\"Training Data Score: {model2.score(X_train_scaled, y_train)}\")\n",
    "print(f\"Testing Data Score: {model2.score(X_test_scaled, y_test)}\")"
   ]
  },
  {
   "cell_type": "markdown",
   "metadata": {},
   "source": [
    "# Hyperparameter Tuning\n",
    "\n",
    "Use `GridSearchCV` to tune the model's parameters"
   ]
  },
  {
   "cell_type": "markdown",
   "metadata": {},
   "source": [
    "GridSearchCV is a library function that is a member of sklearn’s model_selection package. It helps to loop through predefined hyperparameters and fit your estimator (model) on your training set. So, in the end, you can select the best parameters from the listed hyperparameters."
   ]
  },
  {
   "cell_type": "code",
   "execution_count": 48,
   "metadata": {
    "scrolled": true
   },
   "outputs": [
    {
     "data": {
      "text/plain": [
       "dict_keys(['C', 'class_weight', 'dual', 'fit_intercept', 'intercept_scaling', 'l1_ratio', 'max_iter', 'multi_class', 'n_jobs', 'penalty', 'random_state', 'solver', 'tol', 'verbose', 'warm_start'])"
      ]
     },
     "execution_count": 48,
     "metadata": {},
     "output_type": "execute_result"
    }
   ],
   "source": [
    "model2.get_params().keys()"
   ]
  },
  {
   "cell_type": "code",
   "execution_count": 59,
   "metadata": {},
   "outputs": [],
   "source": [
    "# Create the GridSearchCV model\n",
    "from sklearn.model_selection import GridSearchCV\n",
    "param_grid = {'C': [1, 5 , 10, 50,],\n",
    "              'max_iter': [250, 500, 1000, 5000]}\n",
    "\n",
    "grid = GridSearchCV(model2, param_grid, verbose=3)"
   ]
  },
  {
   "cell_type": "code",
   "execution_count": 60,
   "metadata": {},
   "outputs": [
    {
     "name": "stdout",
     "output_type": "stream",
     "text": [
      "Fitting 5 folds for each of 16 candidates, totalling 80 fits\n",
      "[CV] C=1, max_iter=250 ...............................................\n",
      "[CV] ................... C=1, max_iter=250, score=0.827, total=   0.1s\n",
      "[CV] C=1, max_iter=250 ...............................................\n",
      "[CV] ................... C=1, max_iter=250, score=0.813, total=   0.1s\n",
      "[CV] C=1, max_iter=250 ...............................................\n"
     ]
    },
    {
     "name": "stderr",
     "output_type": "stream",
     "text": [
      "[Parallel(n_jobs=1)]: Using backend SequentialBackend with 1 concurrent workers.\n",
      "[Parallel(n_jobs=1)]: Done   1 out of   1 | elapsed:    0.0s remaining:    0.0s\n",
      "[Parallel(n_jobs=1)]: Done   2 out of   2 | elapsed:    0.1s remaining:    0.0s\n"
     ]
    },
    {
     "name": "stdout",
     "output_type": "stream",
     "text": [
      "[CV] ................... C=1, max_iter=250, score=0.818, total=   0.1s\n",
      "[CV] C=1, max_iter=250 ...............................................\n",
      "[CV] ................... C=1, max_iter=250, score=0.806, total=   0.1s\n",
      "[CV] C=1, max_iter=250 ...............................................\n",
      "[CV] ................... C=1, max_iter=250, score=0.818, total=   0.1s\n",
      "[CV] C=1, max_iter=500 ...............................................\n",
      "[CV] ................... C=1, max_iter=500, score=0.827, total=   0.1s\n",
      "[CV] C=1, max_iter=500 ...............................................\n",
      "[CV] ................... C=1, max_iter=500, score=0.813, total=   0.1s\n",
      "[CV] C=1, max_iter=500 ...............................................\n",
      "[CV] ................... C=1, max_iter=500, score=0.818, total=   0.1s\n",
      "[CV] C=1, max_iter=500 ...............................................\n",
      "[CV] ................... C=1, max_iter=500, score=0.806, total=   0.1s\n",
      "[CV] C=1, max_iter=500 ...............................................\n",
      "[CV] ................... C=1, max_iter=500, score=0.818, total=   0.1s\n",
      "[CV] C=1, max_iter=1000 ..............................................\n",
      "[CV] .................. C=1, max_iter=1000, score=0.827, total=   0.1s\n",
      "[CV] C=1, max_iter=1000 ..............................................\n",
      "[CV] .................. C=1, max_iter=1000, score=0.813, total=   0.1s\n",
      "[CV] C=1, max_iter=1000 ..............................................\n",
      "[CV] .................. C=1, max_iter=1000, score=0.818, total=   0.1s\n",
      "[CV] C=1, max_iter=1000 ..............................................\n",
      "[CV] .................. C=1, max_iter=1000, score=0.806, total=   0.1s\n",
      "[CV] C=1, max_iter=1000 ..............................................\n",
      "[CV] .................. C=1, max_iter=1000, score=0.818, total=   0.1s\n",
      "[CV] C=1, max_iter=5000 ..............................................\n",
      "[CV] .................. C=1, max_iter=5000, score=0.827, total=   0.1s\n",
      "[CV] C=1, max_iter=5000 ..............................................\n",
      "[CV] .................. C=1, max_iter=5000, score=0.813, total=   0.1s\n",
      "[CV] C=1, max_iter=5000 ..............................................\n",
      "[CV] .................. C=1, max_iter=5000, score=0.818, total=   0.1s\n",
      "[CV] C=1, max_iter=5000 ..............................................\n",
      "[CV] .................. C=1, max_iter=5000, score=0.806, total=   0.1s\n",
      "[CV] C=1, max_iter=5000 ..............................................\n",
      "[CV] .................. C=1, max_iter=5000, score=0.818, total=   0.1s\n",
      "[CV] C=5, max_iter=250 ...............................................\n",
      "[CV] ................... C=5, max_iter=250, score=0.831, total=   0.2s\n",
      "[CV] C=5, max_iter=250 ...............................................\n",
      "[CV] ................... C=5, max_iter=250, score=0.817, total=   0.2s\n",
      "[CV] C=5, max_iter=250 ...............................................\n",
      "[CV] ................... C=5, max_iter=250, score=0.808, total=   0.2s\n",
      "[CV] C=5, max_iter=250 ...............................................\n",
      "[CV] ................... C=5, max_iter=250, score=0.804, total=   0.2s\n",
      "[CV] C=5, max_iter=250 ...............................................\n",
      "[CV] ................... C=5, max_iter=250, score=0.820, total=   0.1s\n",
      "[CV] C=5, max_iter=500 ...............................................\n",
      "[CV] ................... C=5, max_iter=500, score=0.831, total=   0.2s\n",
      "[CV] C=5, max_iter=500 ...............................................\n",
      "[CV] ................... C=5, max_iter=500, score=0.817, total=   0.2s\n",
      "[CV] C=5, max_iter=500 ...............................................\n",
      "[CV] ................... C=5, max_iter=500, score=0.808, total=   0.2s\n",
      "[CV] C=5, max_iter=500 ...............................................\n",
      "[CV] ................... C=5, max_iter=500, score=0.804, total=   0.2s\n",
      "[CV] C=5, max_iter=500 ...............................................\n",
      "[CV] ................... C=5, max_iter=500, score=0.820, total=   0.1s\n",
      "[CV] C=5, max_iter=1000 ..............................................\n",
      "[CV] .................. C=5, max_iter=1000, score=0.831, total=   0.2s\n",
      "[CV] C=5, max_iter=1000 ..............................................\n",
      "[CV] .................. C=5, max_iter=1000, score=0.817, total=   0.2s\n",
      "[CV] C=5, max_iter=1000 ..............................................\n",
      "[CV] .................. C=5, max_iter=1000, score=0.808, total=   0.2s\n",
      "[CV] C=5, max_iter=1000 ..............................................\n",
      "[CV] .................. C=5, max_iter=1000, score=0.804, total=   0.2s\n",
      "[CV] C=5, max_iter=1000 ..............................................\n",
      "[CV] .................. C=5, max_iter=1000, score=0.820, total=   0.1s\n",
      "[CV] C=5, max_iter=5000 ..............................................\n",
      "[CV] .................. C=5, max_iter=5000, score=0.831, total=   0.2s\n",
      "[CV] C=5, max_iter=5000 ..............................................\n",
      "[CV] .................. C=5, max_iter=5000, score=0.817, total=   0.2s\n",
      "[CV] C=5, max_iter=5000 ..............................................\n",
      "[CV] .................. C=5, max_iter=5000, score=0.808, total=   0.2s\n",
      "[CV] C=5, max_iter=5000 ..............................................\n",
      "[CV] .................. C=5, max_iter=5000, score=0.804, total=   0.2s\n",
      "[CV] C=5, max_iter=5000 ..............................................\n",
      "[CV] .................. C=5, max_iter=5000, score=0.820, total=   0.1s\n",
      "[CV] C=10, max_iter=250 ..............................................\n",
      "[CV] .................. C=10, max_iter=250, score=0.835, total=   0.2s\n",
      "[CV] C=10, max_iter=250 ..............................................\n",
      "[CV] .................. C=10, max_iter=250, score=0.819, total=   0.2s\n",
      "[CV] C=10, max_iter=250 ..............................................\n",
      "[CV] .................. C=10, max_iter=250, score=0.812, total=   0.2s\n",
      "[CV] C=10, max_iter=250 ..............................................\n",
      "[CV] .................. C=10, max_iter=250, score=0.805, total=   0.2s\n",
      "[CV] C=10, max_iter=250 ..............................................\n",
      "[CV] .................. C=10, max_iter=250, score=0.825, total=   0.2s\n",
      "[CV] C=10, max_iter=500 ..............................................\n",
      "[CV] .................. C=10, max_iter=500, score=0.835, total=   0.2s\n",
      "[CV] C=10, max_iter=500 ..............................................\n",
      "[CV] .................. C=10, max_iter=500, score=0.819, total=   0.2s\n",
      "[CV] C=10, max_iter=500 ..............................................\n",
      "[CV] .................. C=10, max_iter=500, score=0.812, total=   0.2s\n",
      "[CV] C=10, max_iter=500 ..............................................\n",
      "[CV] .................. C=10, max_iter=500, score=0.805, total=   0.2s\n",
      "[CV] C=10, max_iter=500 ..............................................\n",
      "[CV] .................. C=10, max_iter=500, score=0.825, total=   0.2s\n",
      "[CV] C=10, max_iter=1000 .............................................\n",
      "[CV] ................. C=10, max_iter=1000, score=0.835, total=   0.2s\n",
      "[CV] C=10, max_iter=1000 .............................................\n",
      "[CV] ................. C=10, max_iter=1000, score=0.819, total=   0.2s\n",
      "[CV] C=10, max_iter=1000 .............................................\n",
      "[CV] ................. C=10, max_iter=1000, score=0.812, total=   0.2s\n",
      "[CV] C=10, max_iter=1000 .............................................\n",
      "[CV] ................. C=10, max_iter=1000, score=0.805, total=   0.2s\n",
      "[CV] C=10, max_iter=1000 .............................................\n",
      "[CV] ................. C=10, max_iter=1000, score=0.825, total=   0.2s\n",
      "[CV] C=10, max_iter=5000 .............................................\n",
      "[CV] ................. C=10, max_iter=5000, score=0.835, total=   0.2s\n",
      "[CV] C=10, max_iter=5000 .............................................\n",
      "[CV] ................. C=10, max_iter=5000, score=0.819, total=   0.2s\n",
      "[CV] C=10, max_iter=5000 .............................................\n",
      "[CV] ................. C=10, max_iter=5000, score=0.812, total=   0.2s\n",
      "[CV] C=10, max_iter=5000 .............................................\n",
      "[CV] ................. C=10, max_iter=5000, score=0.805, total=   0.2s\n",
      "[CV] C=10, max_iter=5000 .............................................\n",
      "[CV] ................. C=10, max_iter=5000, score=0.825, total=   0.2s\n",
      "[CV] C=50, max_iter=250 ..............................................\n"
     ]
    },
    {
     "name": "stderr",
     "output_type": "stream",
     "text": [
      "C:\\Users\\Jack Pan\\anaconda3\\lib\\site-packages\\sklearn\\linear_model\\_logistic.py:762: ConvergenceWarning: lbfgs failed to converge (status=1):\n",
      "STOP: TOTAL NO. of ITERATIONS REACHED LIMIT.\n",
      "\n",
      "Increase the number of iterations (max_iter) or scale the data as shown in:\n",
      "    https://scikit-learn.org/stable/modules/preprocessing.html\n",
      "Please also refer to the documentation for alternative solver options:\n",
      "    https://scikit-learn.org/stable/modules/linear_model.html#logistic-regression\n",
      "  n_iter_i = _check_optimize_result(\n"
     ]
    },
    {
     "name": "stdout",
     "output_type": "stream",
     "text": [
      "[CV] .................. C=50, max_iter=250, score=0.846, total=   0.3s\n",
      "[CV] C=50, max_iter=250 ..............................................\n"
     ]
    },
    {
     "name": "stderr",
     "output_type": "stream",
     "text": [
      "C:\\Users\\Jack Pan\\anaconda3\\lib\\site-packages\\sklearn\\linear_model\\_logistic.py:762: ConvergenceWarning: lbfgs failed to converge (status=1):\n",
      "STOP: TOTAL NO. of ITERATIONS REACHED LIMIT.\n",
      "\n",
      "Increase the number of iterations (max_iter) or scale the data as shown in:\n",
      "    https://scikit-learn.org/stable/modules/preprocessing.html\n",
      "Please also refer to the documentation for alternative solver options:\n",
      "    https://scikit-learn.org/stable/modules/linear_model.html#logistic-regression\n",
      "  n_iter_i = _check_optimize_result(\n"
     ]
    },
    {
     "name": "stdout",
     "output_type": "stream",
     "text": [
      "[CV] .................. C=50, max_iter=250, score=0.819, total=   0.3s\n",
      "[CV] C=50, max_iter=250 ..............................................\n"
     ]
    },
    {
     "name": "stderr",
     "output_type": "stream",
     "text": [
      "C:\\Users\\Jack Pan\\anaconda3\\lib\\site-packages\\sklearn\\linear_model\\_logistic.py:762: ConvergenceWarning: lbfgs failed to converge (status=1):\n",
      "STOP: TOTAL NO. of ITERATIONS REACHED LIMIT.\n",
      "\n",
      "Increase the number of iterations (max_iter) or scale the data as shown in:\n",
      "    https://scikit-learn.org/stable/modules/preprocessing.html\n",
      "Please also refer to the documentation for alternative solver options:\n",
      "    https://scikit-learn.org/stable/modules/linear_model.html#logistic-regression\n",
      "  n_iter_i = _check_optimize_result(\n"
     ]
    },
    {
     "name": "stdout",
     "output_type": "stream",
     "text": [
      "[CV] .................. C=50, max_iter=250, score=0.816, total=   0.3s\n",
      "[CV] C=50, max_iter=250 ..............................................\n"
     ]
    },
    {
     "name": "stderr",
     "output_type": "stream",
     "text": [
      "C:\\Users\\Jack Pan\\anaconda3\\lib\\site-packages\\sklearn\\linear_model\\_logistic.py:762: ConvergenceWarning: lbfgs failed to converge (status=1):\n",
      "STOP: TOTAL NO. of ITERATIONS REACHED LIMIT.\n",
      "\n",
      "Increase the number of iterations (max_iter) or scale the data as shown in:\n",
      "    https://scikit-learn.org/stable/modules/preprocessing.html\n",
      "Please also refer to the documentation for alternative solver options:\n",
      "    https://scikit-learn.org/stable/modules/linear_model.html#logistic-regression\n",
      "  n_iter_i = _check_optimize_result(\n"
     ]
    },
    {
     "name": "stdout",
     "output_type": "stream",
     "text": [
      "[CV] .................. C=50, max_iter=250, score=0.807, total=   0.3s\n",
      "[CV] C=50, max_iter=250 ..............................................\n"
     ]
    },
    {
     "name": "stderr",
     "output_type": "stream",
     "text": [
      "C:\\Users\\Jack Pan\\anaconda3\\lib\\site-packages\\sklearn\\linear_model\\_logistic.py:762: ConvergenceWarning: lbfgs failed to converge (status=1):\n",
      "STOP: TOTAL NO. of ITERATIONS REACHED LIMIT.\n",
      "\n",
      "Increase the number of iterations (max_iter) or scale the data as shown in:\n",
      "    https://scikit-learn.org/stable/modules/preprocessing.html\n",
      "Please also refer to the documentation for alternative solver options:\n",
      "    https://scikit-learn.org/stable/modules/linear_model.html#logistic-regression\n",
      "  n_iter_i = _check_optimize_result(\n"
     ]
    },
    {
     "name": "stdout",
     "output_type": "stream",
     "text": [
      "[CV] .................. C=50, max_iter=250, score=0.832, total=   0.3s\n",
      "[CV] C=50, max_iter=500 ..............................................\n",
      "[CV] .................. C=50, max_iter=500, score=0.846, total=   0.4s\n",
      "[CV] C=50, max_iter=500 ..............................................\n",
      "[CV] .................. C=50, max_iter=500, score=0.819, total=   0.4s\n",
      "[CV] C=50, max_iter=500 ..............................................\n",
      "[CV] .................. C=50, max_iter=500, score=0.815, total=   0.4s\n",
      "[CV] C=50, max_iter=500 ..............................................\n",
      "[CV] .................. C=50, max_iter=500, score=0.807, total=   0.4s\n",
      "[CV] C=50, max_iter=500 ..............................................\n",
      "[CV] .................. C=50, max_iter=500, score=0.832, total=   0.4s\n",
      "[CV] C=50, max_iter=1000 .............................................\n",
      "[CV] ................. C=50, max_iter=1000, score=0.846, total=   0.4s\n",
      "[CV] C=50, max_iter=1000 .............................................\n",
      "[CV] ................. C=50, max_iter=1000, score=0.819, total=   0.5s\n",
      "[CV] C=50, max_iter=1000 .............................................\n",
      "[CV] ................. C=50, max_iter=1000, score=0.815, total=   0.4s\n",
      "[CV] C=50, max_iter=1000 .............................................\n",
      "[CV] ................. C=50, max_iter=1000, score=0.807, total=   0.4s\n",
      "[CV] C=50, max_iter=1000 .............................................\n",
      "[CV] ................. C=50, max_iter=1000, score=0.832, total=   0.4s\n",
      "[CV] C=50, max_iter=5000 .............................................\n",
      "[CV] ................. C=50, max_iter=5000, score=0.846, total=   0.4s\n",
      "[CV] C=50, max_iter=5000 .............................................\n",
      "[CV] ................. C=50, max_iter=5000, score=0.819, total=   0.4s\n",
      "[CV] C=50, max_iter=5000 .............................................\n",
      "[CV] ................. C=50, max_iter=5000, score=0.815, total=   0.4s\n",
      "[CV] C=50, max_iter=5000 .............................................\n",
      "[CV] ................. C=50, max_iter=5000, score=0.807, total=   0.4s\n",
      "[CV] C=50, max_iter=5000 .............................................\n",
      "[CV] ................. C=50, max_iter=5000, score=0.832, total=   0.4s\n"
     ]
    },
    {
     "name": "stderr",
     "output_type": "stream",
     "text": [
      "[Parallel(n_jobs=1)]: Done  80 out of  80 | elapsed:   17.2s finished\n",
      "C:\\Users\\Jack Pan\\anaconda3\\lib\\site-packages\\sklearn\\linear_model\\_logistic.py:762: ConvergenceWarning: lbfgs failed to converge (status=1):\n",
      "STOP: TOTAL NO. of ITERATIONS REACHED LIMIT.\n",
      "\n",
      "Increase the number of iterations (max_iter) or scale the data as shown in:\n",
      "    https://scikit-learn.org/stable/modules/preprocessing.html\n",
      "Please also refer to the documentation for alternative solver options:\n",
      "    https://scikit-learn.org/stable/modules/linear_model.html#logistic-regression\n",
      "  n_iter_i = _check_optimize_result(\n"
     ]
    },
    {
     "data": {
      "text/plain": [
       "GridSearchCV(estimator=LogisticRegression(),\n",
       "             param_grid={'C': [1, 5, 10, 50],\n",
       "                         'max_iter': [250, 500, 1000, 5000]},\n",
       "             verbose=3)"
      ]
     },
     "execution_count": 60,
     "metadata": {},
     "output_type": "execute_result"
    }
   ],
   "source": [
    "# Train the model with GridSearch\n",
    "grid.fit(X_train_scaled, y_train)"
   ]
  },
  {
   "cell_type": "code",
   "execution_count": 62,
   "metadata": {},
   "outputs": [
    {
     "name": "stdout",
     "output_type": "stream",
     "text": [
      "{'C': 50, 'max_iter': 250}\n",
      "0.8239541111491133\n"
     ]
    }
   ],
   "source": [
    "# List the best parameters for this dataset\n",
    "print(grid.best_params_)\n",
    "# List the best R2 for this dataset\n",
    "print(grid.best_score_)"
   ]
  },
  {
   "cell_type": "code",
   "execution_count": 66,
   "metadata": {},
   "outputs": [
    {
     "data": {
      "text/plain": [
       "array([2, 0, 2, ..., 0, 0, 0])"
      ]
     },
     "execution_count": 66,
     "metadata": {},
     "output_type": "execute_result"
    }
   ],
   "source": [
    "# Make predictions with the hypertuned model\n",
    "predictions = grid.predict(X_test_scaled)\n",
    "predictions"
   ]
  },
  {
   "cell_type": "code",
   "execution_count": 67,
   "metadata": {},
   "outputs": [
    {
     "name": "stdout",
     "output_type": "stream",
     "text": [
      "                precision    recall  f1-score   support\n",
      "\n",
      "     Candidate       0.61      0.63      0.62       411\n",
      "     Confirmed       0.68      0.65      0.66       484\n",
      "False Positive       0.98      1.00      0.99       853\n",
      "\n",
      "      accuracy                           0.81      1748\n",
      "     macro avg       0.76      0.76      0.76      1748\n",
      "  weighted avg       0.81      0.81      0.81      1748\n",
      "\n"
     ]
    }
   ],
   "source": [
    "# Calculate classification report\n",
    "from sklearn.metrics import classification_report\n",
    "#candidate = 0 , confirmed = 1, false positive =2 \n",
    "print(classification_report(y_test, predictions,\n",
    "                            target_names=[\"Candidate\", \"Confirmed\", \"False Positive\" ]))"
   ]
  },
  {
   "cell_type": "markdown",
   "metadata": {},
   "source": [
    "# Save the Model"
   ]
  },
  {
   "cell_type": "code",
   "execution_count": 71,
   "metadata": {},
   "outputs": [
    {
     "data": {
      "text/plain": [
       "['logreg.sav']"
      ]
     },
     "execution_count": 71,
     "metadata": {},
     "output_type": "execute_result"
    }
   ],
   "source": [
    "# save your model by updating \"your_name\" with your name\n",
    "# and \"your_model\" with your model variable\n",
    "# be sure to turn this in to BCS\n",
    "# if joblib fails to import, try running the command to install in terminal/git-bash\n",
    "import joblib\n",
    "filename = 'logreg.sav'\n",
    "joblib.dump(model2, filename)"
   ]
  },
  {
   "cell_type": "code",
   "execution_count": null,
   "metadata": {},
   "outputs": [],
   "source": []
  }
 ],
 "metadata": {
  "kernel_info": {
   "name": "dev"
  },
  "kernelspec": {
   "display_name": "Python [conda env:root]",
   "language": "python",
   "name": "conda-root-py"
  },
  "language_info": {
   "codemirror_mode": {
    "name": "ipython",
    "version": 3
   },
   "file_extension": ".py",
   "mimetype": "text/x-python",
   "name": "python",
   "nbconvert_exporter": "python",
   "pygments_lexer": "ipython3",
   "version": "3.8.5"
  },
  "nteract": {
   "version": "0.12.3"
  }
 },
 "nbformat": 4,
 "nbformat_minor": 2
}
